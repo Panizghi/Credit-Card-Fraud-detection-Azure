{
  "cells": [
    {
      "cell_type": "code",
      "source": [
        "import logging \n",
        "from matplotlib import pyplot as plt \n",
        "import pandas as pd \n",
        "import os\n",
        "import azureml.core\n",
        "from azureml.core.experiment import Experiment\n",
        "from azureml.core.workspace  import Workspace\n",
        "from azureml.core.dataset import Dataset \n",
        "from azureml.core.datastore import Datastore\n",
        "from sklearn.model_selection import train_test_split\n",
        "from sklearn.preprocessing import StandardScaler\n",
        "from sklearn.neighbors import KNeighborsClassifier\n",
        "from sklearn.metrics import accuracy_score # evaluation metric\n",
        "from termcolor import colored as cl\n",
        "#import neccassry library "
      ],
      "outputs": [],
      "execution_count": 8,
      "metadata": {
        "gather": {
          "logged": 1661577818144
        }
      }
    },
    {
      "cell_type": "code",
      "source": [
        "ws = Workspace.from_config()\n",
        "\n",
        "\n",
        "# choose a name for experiment\n",
        "experiment_name = \"automl-classification-card-remote\"\n",
        "\n",
        "experiment = Experiment(ws, experiment_name)\n",
        "\n",
        "output = {}\n",
        "output[\"Subscription ID\"] = ws.subscription_id\n",
        "output[\"Workspace\"] = ws.name\n",
        "output[\"Resource Group\"] = ws.resource_group\n",
        "output[\"Location\"] = ws.location\n",
        "output[\"Experiment Name\"] = experiment.name\n",
        "output[\"SDK Version\"] = azureml.core.VERSION\n",
        "pd.set_option(\"display.max_colwidth\", None)\n",
        "outputDf = pd.DataFrame(data=output, index=[\"\"])\n",
        "outputDf.T"
      ],
      "outputs": [
        {
          "output_type": "execute_result",
          "execution_count": 9,
          "data": {
            "text/plain": "                                                     \nSubscription ID  ff2d2126-f4aa-459f-b255-4420677f910a\nWorkspace                      fraud-detection-system\nResource Group                     azure-2022-project\nLocation                                       eastus\nExperiment Name     automl-classification-card-remote\nSDK Version                                    1.43.0",
            "text/html": "<div>\n<style scoped>\n    .dataframe tbody tr th:only-of-type {\n        vertical-align: middle;\n    }\n\n    .dataframe tbody tr th {\n        vertical-align: top;\n    }\n\n    .dataframe thead th {\n        text-align: right;\n    }\n</style>\n<table border=\"1\" class=\"dataframe\">\n  <thead>\n    <tr style=\"text-align: right;\">\n      <th></th>\n      <th></th>\n    </tr>\n  </thead>\n  <tbody>\n    <tr>\n      <th>Subscription ID</th>\n      <td>ff2d2126-f4aa-459f-b255-4420677f910a</td>\n    </tr>\n    <tr>\n      <th>Workspace</th>\n      <td>fraud-detection-system</td>\n    </tr>\n    <tr>\n      <th>Resource Group</th>\n      <td>azure-2022-project</td>\n    </tr>\n    <tr>\n      <th>Location</th>\n      <td>eastus</td>\n    </tr>\n    <tr>\n      <th>Experiment Name</th>\n      <td>automl-classification-card-remote</td>\n    </tr>\n    <tr>\n      <th>SDK Version</th>\n      <td>1.43.0</td>\n    </tr>\n  </tbody>\n</table>\n</div>"
          },
          "metadata": {}
        }
      ],
      "execution_count": 9,
      "metadata": {
        "collapsed": false,
        "gather": {
          "logged": 1661577821097
        },
        "jupyter": {
          "outputs_hidden": false,
          "source_hidden": false
        },
        "nteract": {
          "transient": {
            "deleting": false
          }
        }
      }
    },
    {
      "cell_type": "code",
      "source": [
        "import pandas as pd \n",
        "dataset = pd.read_csv('Users/p2ojaghi/creditcard.csv')\n",
        "dataset.drop('Time', axis = 1, inplace = True) #drop the time col since it has no effect on the training \n",
        "\n",
        "print(dataset.head()) #seeing the first 5 row by removing the .head() method \n"
      ],
      "outputs": [
        {
          "output_type": "stream",
          "name": "stdout",
          "text": "         V1        V2        V3        V4        V5        V6        V7  \\\n0 -1.359807 -0.072781  2.536347  1.378155 -0.338321  0.462388  0.239599   \n1  1.191857  0.266151  0.166480  0.448154  0.060018 -0.082361 -0.078803   \n2 -1.358354 -1.340163  1.773209  0.379780 -0.503198  1.800499  0.791461   \n3 -0.966272 -0.185226  1.792993 -0.863291 -0.010309  1.247203  0.237609   \n4 -1.158233  0.877737  1.548718  0.403034 -0.407193  0.095921  0.592941   \n\n         V8        V9       V10  ...       V21       V22       V23       V24  \\\n0  0.098698  0.363787  0.090794  ... -0.018307  0.277838 -0.110474  0.066928   \n1  0.085102 -0.255425 -0.166974  ... -0.225775 -0.638672  0.101288 -0.339846   \n2  0.247676 -1.514654  0.207643  ...  0.247998  0.771679  0.909412 -0.689281   \n3  0.377436 -1.387024 -0.054952  ... -0.108300  0.005274 -0.190321 -1.175575   \n4 -0.270533  0.817739  0.753074  ... -0.009431  0.798278 -0.137458  0.141267   \n\n        V25       V26       V27       V28  Amount  Class  \n0  0.128539 -0.189115  0.133558 -0.021053  149.62  False  \n1  0.167170  0.125895 -0.008983  0.014724    2.69  False  \n2 -0.327642 -0.139097 -0.055353 -0.059752  378.66  False  \n3  0.647376 -0.221929  0.062723  0.061458  123.50  False  \n4 -0.206010  0.502292  0.219422  0.215153   69.99  False  \n\n[5 rows x 30 columns]\n"
        }
      ],
      "execution_count": 11,
      "metadata": {
        "collapsed": false,
        "gather": {
          "logged": 1661577893414
        },
        "jupyter": {
          "outputs_hidden": false,
          "source_hidden": false
        },
        "nteract": {
          "transient": {
            "deleting": false
          }
        }
      }
    },
    {
      "cell_type": "code",
      "source": [
        "sc = StandardScaler() #normilze the data and print the first 10 rows\n",
        "amount = dataset['Amount'].values\n",
        "\n",
        "dataset['Amount'] = sc.fit_transform(amount.reshape(-1, 1))\n",
        "\n",
        "print(cl(dataset['Amount'].head(10), attrs = ['bold']))"
      ],
      "outputs": [
        {
          "output_type": "stream",
          "name": "stdout",
          "text": "\u001b[1m0    0.244964\n1   -0.342475\n2    1.160686\n3    0.140534\n4   -0.073403\n5   -0.338556\n6   -0.333279\n7   -0.190107\n8    0.019392\n9   -0.338516\nName: Amount, dtype: float64\u001b[0m\n"
        }
      ],
      "execution_count": 12,
      "metadata": {
        "collapsed": false,
        "gather": {
          "logged": 1661577897005
        },
        "jupyter": {
          "outputs_hidden": false,
          "source_hidden": false
        },
        "nteract": {
          "transient": {
            "deleting": false
          }
        }
      }
    },
    {
      "cell_type": "code",
      "source": [
        "#split the the data into treain and test \n",
        "x_df = dataset.drop('Class', axis = 1).values\n",
        "y_df = dataset['Class'].values\n",
        "X_train, X_test, y_train, y_test = train_test_split(x_df, y_df, test_size=0.2, random_state=66)\n",
        "print(cl('X_train samples : ', attrs = ['bold']), X_train[:1])\n",
        "print(cl('X_test samples : ', attrs = ['bold']), X_test[0:1])\n",
        "print(cl('y_train samples : ', attrs = ['bold']), y_train[0:20])\n",
        "print(cl('y_test samples : ', attrs = ['bold']), y_test[0:20])"
      ],
      "outputs": [
        {
          "output_type": "stream",
          "name": "stdout",
          "text": "\u001b[1mX_train samples : \u001b[0m [[ 2.07398156 -1.08019173 -0.84983549 -0.93490325 -0.85884673 -0.42174188\n  -0.84004521 -0.03493837 -0.24233017  0.90508388  0.62255056 -0.01247873\n  -0.15530252 -0.09906087 -0.56978289  1.25189967 -0.08051638 -0.8415785\n   0.9049527   0.03612506  0.2585561   0.68690653  0.09754011 -0.3775487\n  -0.16654333 -0.17654644 -0.01442729 -0.05949748 -0.14732795]]\n\u001b[1mX_test samples : \u001b[0m [[-0.90410246  1.3882083  -0.31581581 -1.01263416  0.50548654 -0.64873059\n   0.77192264  0.05374389  0.60169684  1.02065154  0.32144515  0.34763215\n  -0.67202546  0.13429155 -0.93030693  0.1904936  -0.82903843 -0.0800802\n   0.27178242  0.4460647  -0.37197473 -0.69262587  0.04680783 -0.5331425\n  -0.27217316  0.17093311  0.65064029  0.35557124 -0.34927129]]\n\u001b[1my_train samples : \u001b[0m [False False False False False False False False False False False False\n False False False False False False False False]\n\u001b[1my_test samples : \u001b[0m [False False False False False False False False False False False False\n False False False False False False False False]\n"
        }
      ],
      "execution_count": 13,
      "metadata": {
        "collapsed": false,
        "gather": {
          "logged": 1661577899138
        },
        "jupyter": {
          "outputs_hidden": false,
          "source_hidden": false
        },
        "nteract": {
          "transient": {
            "deleting": false
          }
        }
      }
    },
    {
      "cell_type": "code",
      "source": [
        "knn = KNeighborsClassifier(n_neighbors = 5)\n",
        "knn.fit(X_train, y_train)\n",
        "knn_yhat = knn.predict(X_test)\n",
        "print(cl('Accuracy score of the KNN model is {}'.format(accuracy_score(y_test, knn_yhat)), attrs = ['bold'], color = 'green'))\n"
      ],
      "outputs": [],
      "execution_count": 14,
      "metadata": {
        "collapsed": false,
        "gather": {
          "logged": 1658635723663
        },
        "jupyter": {
          "outputs_hidden": false,
          "source_hidden": false
        },
        "nteract": {
          "transient": {
            "deleting": false
          }
        }
      }
    },
    {
      "cell_type": "code",
      "source": [
        "from sklearn.metrics import confusion_matrix\n",
        "import numpy as np\n",
        "import itertools\n",
        "\n",
        "cf = confusion_matrix(y_test,knn_yhat)\n",
        "plt.imshow(cf, cmap=plt.cm.Blues, interpolation=\"nearest\")\n",
        "plt.colorbar()\n",
        "plt.title(\"Confusion Matrix\")\n",
        "plt.xlabel(\"Predicted\")\n",
        "plt.ylabel(\"Actual\")\n",
        "class_labels = [\"False\", \"True\"]\n",
        "tick_marks = np.arange(len(class_labels))\n",
        "plt.xticks(tick_marks, class_labels)\n",
        "plt.yticks([-0.5, 0, 1, 1.5], [\"\", \"False\", \"True\", \"\"])\n",
        "# plotting text value inside cells\n",
        "thresh = cf.max() / 2.0\n",
        "for i, j in itertools.product(range(cf.shape[0]), range(cf.shape[1])):\n",
        "    plt.text(\n",
        "        j,\n",
        "        i,\n",
        "        format(cf[i, j], \"d\"),\n",
        "        horizontalalignment=\"center\",\n",
        "        color=\"white\" if cf[i, j] > thresh else \"black\",\n",
        "    )\n",
        "plt.show()\n",
        "print(type(plt.show()))"
      ],
      "outputs": [],
      "execution_count": null,
      "metadata": {
        "gather": {
          "logged": 1661577620851
        }
      }
    },
    {
      "cell_type": "code",
      "source": [
        "import sklearn\n",
        "\n",
        "from azureml.core import Workspace\n",
        "\n",
        "from azureml.core import Model\n",
        "\n",
        "from azureml.core.resource_configuration import ResourceConfiguration\n",
        "\n",
        "ws = Workspace.from_config()\n",
        "\n",
        "model = Model.register(workspace=ws,\n",
        "\n",
        "model_name='my-sklearn-model',                # Name of the registered model in your workspace.\n",
        "\n",
        "model_path='./sklearn_knn_model.pkl',  # Local file to upload and register as a model.\n",
        "\n",
        "model_framework=Model.Framework.SCIKITLEARN,  # Framework used to create the model.\n",
        "\n",
        "model_framework_version=sklearn.__version__,  # Version of scikit-learn used to create the model.\n",
        "\n",
        "resource_configuration=ResourceConfiguration(cpu=2, memory_in_gb=4),\n",
        "\n",
        "description='Ridge regression model to predict diabetes progression.',\n",
        "\n",
        "tags=None)\n",
        "\n",
        "print('Name:', model.name)\n",
        "\n",
        "print('Version:', model.version)"
      ],
      "outputs": [],
      "execution_count": 9,
      "metadata": {}
    }
  ],
  "metadata": {
    "kernel_info": {
      "name": "python38-azureml"
    },
    "kernelspec": {
      "name": "python38-azureml",
      "language": "python",
      "display_name": "Python 3.8 - AzureML"
    },
    "language_info": {
      "name": "python",
      "version": "3.8.13",
      "mimetype": "text/x-python",
      "codemirror_mode": {
        "name": "ipython",
        "version": 3
      },
      "pygments_lexer": "ipython3",
      "nbconvert_exporter": "python",
      "file_extension": ".py"
    },
    "microsoft": {
      "host": {
        "AzureML": {
          "notebookHasBeenCompleted": true
        }
      }
    },
    "nteract": {
      "version": "nteract-front-end@1.0.0"
    }
  },
  "nbformat": 4,
  "nbformat_minor": 4
}